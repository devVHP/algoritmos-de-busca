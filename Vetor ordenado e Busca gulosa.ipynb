{
 "cells": [
  {
   "cell_type": "code",
   "id": "initial_id",
   "metadata": {
    "collapsed": true,
    "ExecuteTime": {
     "end_time": "2025-04-17T01:27:48.762247Z",
     "start_time": "2025-04-17T01:27:48.755963Z"
    }
   },
   "source": "import numpy as np",
   "outputs": [],
   "execution_count": 16
  },
  {
   "metadata": {
    "ExecuteTime": {
     "end_time": "2025-04-17T01:27:48.799729Z",
     "start_time": "2025-04-17T01:27:48.789536Z"
    }
   },
   "cell_type": "code",
   "source": [
    "class Vetor_Ordenado():\n",
    "    def __init__(self, capacidade):\n",
    "        self.capacidade = capacidade #capacidade total do nosso vetor\n",
    "        self.ultima_posicao = -1\n",
    "        self.valores = np.empty(self.capacidade, dtype=int) #preencher o vetor com espaços vazios do tipo inteiro\n",
    "\n",
    "    def imprimir(self): #função para imprimir o vetor\n",
    "        if self.ultima_posicao == -1:\n",
    "                print(\"Vetor vazio\")\n",
    "        else:\n",
    "            for i in range(self.ultima_posicao+1):\n",
    "                print(f\"{i} - {self.valores[i]}\")\n",
    "\n",
    "    def inserir(self, valor):\n",
    "        if self.ultima_posicao == self.capacidade - 1:\n",
    "            print('Capacidade máxima atingida')\n",
    "            return\n",
    "\n",
    "        posicao = 0\n",
    "        for i in range(self.ultima_posicao+1):\n",
    "            posicao = i\n",
    "            if self.valores[i]>valor:\n",
    "                break\n",
    "            if i == self.ultima_posicao:\n",
    "                posicao = i+1\n",
    "\n",
    "        x = self.ultima_posicao\n",
    "        while x>=posicao:\n",
    "            self.valores[x+1] = self.valores[x]\n",
    "            x -=1\n",
    "\n",
    "        self.valores[posicao] = valor\n",
    "        self.ultima_posicao+=1"
   ],
   "id": "140277d7ce35527b",
   "outputs": [],
   "execution_count": 17
  },
  {
   "metadata": {
    "ExecuteTime": {
     "end_time": "2025-04-17T01:27:48.822070Z",
     "start_time": "2025-04-17T01:27:48.816379Z"
    }
   },
   "cell_type": "code",
   "source": [
    "vetor = Vetor_Ordenado(10)\n",
    "vetor.imprimir()"
   ],
   "id": "9f1fc01c2d0fc45d",
   "outputs": [
    {
     "name": "stdout",
     "output_type": "stream",
     "text": [
      "Vetor vazio\n"
     ]
    }
   ],
   "execution_count": 18
  },
  {
   "metadata": {
    "ExecuteTime": {
     "end_time": "2025-04-17T01:27:48.849170Z",
     "start_time": "2025-04-17T01:27:48.841790Z"
    }
   },
   "cell_type": "code",
   "source": [
    "vetor.inserir(1)\n",
    "vetor.imprimir()"
   ],
   "id": "15a81e44d3c8b53a",
   "outputs": [
    {
     "name": "stdout",
     "output_type": "stream",
     "text": [
      "0 - 1\n"
     ]
    }
   ],
   "execution_count": 19
  },
  {
   "metadata": {
    "ExecuteTime": {
     "end_time": "2025-04-17T01:27:48.884008Z",
     "start_time": "2025-04-17T01:27:48.878794Z"
    }
   },
   "cell_type": "code",
   "source": [
    "vetor.inserir(5)\n",
    "vetor.imprimir()"
   ],
   "id": "301f0843e54ac039",
   "outputs": [
    {
     "name": "stdout",
     "output_type": "stream",
     "text": [
      "0 - 1\n",
      "1 - 5\n"
     ]
    }
   ],
   "execution_count": 20
  },
  {
   "metadata": {
    "ExecuteTime": {
     "end_time": "2025-04-17T01:27:48.948394Z",
     "start_time": "2025-04-17T01:27:48.942130Z"
    }
   },
   "cell_type": "code",
   "source": [
    "vetor.inserir(3)\n",
    "vetor.imprimir()"
   ],
   "id": "7e33b8b8fc233a28",
   "outputs": [
    {
     "name": "stdout",
     "output_type": "stream",
     "text": [
      "0 - 1\n",
      "1 - 3\n",
      "2 - 5\n"
     ]
    }
   ],
   "execution_count": 21
  }
 ],
 "metadata": {
  "kernelspec": {
   "display_name": "Python 3",
   "language": "python",
   "name": "python3"
  },
  "language_info": {
   "codemirror_mode": {
    "name": "ipython",
    "version": 2
   },
   "file_extension": ".py",
   "mimetype": "text/x-python",
   "name": "python",
   "nbconvert_exporter": "python",
   "pygments_lexer": "ipython2",
   "version": "2.7.6"
  }
 },
 "nbformat": 4,
 "nbformat_minor": 5
}
